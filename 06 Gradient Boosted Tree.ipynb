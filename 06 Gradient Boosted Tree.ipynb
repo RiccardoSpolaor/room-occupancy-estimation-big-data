{
  "cells": [
    {
      "cell_type": "markdown",
      "metadata": {},
      "source": [
        "<center>\n",
        "    <h1>Room Occupancy Estimation - DM, TM and BDA</h1>\n",
        "    <h2>Gradient Boosted Tree</h2>\n",
        "    <h3>Riccardo Spolaor</h3>\n",
        "    <h4>riccardo.spolaor@studio.unibo.it</h4>\n",
        "</center>\n",
        "\n",
        "---\n",
        "In this notebook the prediction task on the ***Room Occupancy Estimation*** dataset is carried out by means of Gradient Boosted Trees."
      ]
    },
    {
      "cell_type": "markdown",
      "id": "ZY8MJre8jcA_",
      "metadata": {
        "id": "ZY8MJre8jcA_"
      },
      "source": [
        "## Settings"
      ]
    },
    {
      "cell_type": "code",
      "execution_count": 1,
      "id": "QDe9GIrwl78f",
      "metadata": {
        "id": "QDe9GIrwl78f"
      },
      "outputs": [],
      "source": [
        "import sys\n",
        "\n",
        "IS_COLAB = 'google.colab' in sys.modules"
      ]
    },
    {
      "cell_type": "code",
      "execution_count": 2,
      "id": "pioTKqA6l78h",
      "metadata": {
        "id": "pioTKqA6l78h"
      },
      "outputs": [],
      "source": [
        "SEED=42"
      ]
    },
    {
      "cell_type": "code",
      "execution_count": 3,
      "id": "EWv_Hybvl78h",
      "metadata": {
        "id": "EWv_Hybvl78h"
      },
      "outputs": [],
      "source": [
        "# Settings for autoreloading\n",
        "\n",
        "%load_ext autoreload\n",
        "%autoreload 2"
      ]
    },
    {
      "cell_type": "code",
      "execution_count": 4,
      "id": "pJ15QQeEl78h",
      "metadata": {
        "id": "pJ15QQeEl78h"
      },
      "outputs": [],
      "source": [
        "# Matplotlib settings\n",
        "\n",
        "%matplotlib inline"
      ]
    },
    {
      "cell_type": "code",
      "execution_count": 5,
      "id": "McSh0fO_HgtE",
      "metadata": {
        "id": "McSh0fO_HgtE"
      },
      "outputs": [],
      "source": [
        "NUM_FOLDS = 10\n",
        "APPLY_THRESHOLD_SELECTION = False"
      ]
    },
    {
      "cell_type": "markdown",
      "id": "ftVV2AbNETCI",
      "metadata": {
        "id": "ftVV2AbNETCI"
      },
      "source": [
        "## Libraries"
      ]
    },
    {
      "cell_type": "code",
      "execution_count": 6,
      "id": "oLjqwHwY9ZmZ",
      "metadata": {
        "colab": {
          "base_uri": "https://localhost:8080/"
        },
        "id": "oLjqwHwY9ZmZ",
        "outputId": "24745c78-9ade-49d6-f375-40446ce37418"
      },
      "outputs": [
        {
          "name": "stdout",
          "output_type": "stream",
          "text": [
            "Collecting pyspark\n",
            "  Downloading pyspark-3.5.0.tar.gz (316.9 MB)\n",
            "\u001b[2K     \u001b[90m━━━━━━━━━━━━━━━━━━━━━━━━━━━━━━━━━━━━━━━━\u001b[0m \u001b[32m316.9/316.9 MB\u001b[0m \u001b[31m4.1 MB/s\u001b[0m eta \u001b[36m0:00:00\u001b[0m\n",
            "\u001b[?25h  Preparing metadata (setup.py) ... \u001b[?25l\u001b[?25hdone\n",
            "Requirement already satisfied: py4j==0.10.9.7 in /usr/local/lib/python3.10/dist-packages (from pyspark) (0.10.9.7)\n",
            "Building wheels for collected packages: pyspark\n",
            "  Building wheel for pyspark (setup.py) ... \u001b[?25l\u001b[?25hdone\n",
            "  Created wheel for pyspark: filename=pyspark-3.5.0-py2.py3-none-any.whl size=317425344 sha256=f26cbaca5b981322f528ae96f1d35ced4ab072ed7f2ee05a7afd3bd3afe0f103\n",
            "  Stored in directory: /root/.cache/pip/wheels/41/4e/10/c2cf2467f71c678cfc8a6b9ac9241e5e44a01940da8fbb17fc\n",
            "Successfully built pyspark\n",
            "Installing collected packages: pyspark\n",
            "Successfully installed pyspark-3.5.0\n",
            "Collecting findspark\n",
            "  Downloading findspark-2.0.1-py2.py3-none-any.whl (4.4 kB)\n",
            "Installing collected packages: findspark\n",
            "Successfully installed findspark-2.0.1\n"
          ]
        }
      ],
      "source": [
        "if IS_COLAB:\n",
        "    !pip install pyspark\n",
        "    !pip install findspark"
      ]
    },
    {
      "cell_type": "code",
      "execution_count": 7,
      "id": "TNHWEi_TsER4",
      "metadata": {
        "id": "TNHWEi_TsER4"
      },
      "outputs": [],
      "source": [
        "import findspark\n",
        "\n",
        "findspark.init()"
      ]
    },
    {
      "cell_type": "code",
      "execution_count": 8,
      "id": "dcc09bc5",
      "metadata": {
        "id": "dcc09bc5"
      },
      "outputs": [],
      "source": [
        "import numpy as np\n",
        "import matplotlib.pyplot as plt"
      ]
    },
    {
      "cell_type": "code",
      "execution_count": 9,
      "id": "dMD7x6TCEhTF",
      "metadata": {
        "id": "dMD7x6TCEhTF"
      },
      "outputs": [],
      "source": [
        "import pyspark.sql.functions as F"
      ]
    },
    {
      "cell_type": "markdown",
      "id": "UKC5dBqREXam",
      "metadata": {
        "id": "UKC5dBqREXam"
      },
      "source": [
        "## Setting Spark Session"
      ]
    },
    {
      "cell_type": "code",
      "execution_count": 10,
      "id": "urxGXqpREfAg",
      "metadata": {
        "id": "urxGXqpREfAg"
      },
      "outputs": [],
      "source": [
        "from pyspark.sql import SparkSession\n",
        "\n",
        "\n",
        "# Create a spark session\n",
        "spark = SparkSession.builder.master('local[*]').appName('OccupancyEstimation').getOrCreate()"
      ]
    },
    {
      "cell_type": "code",
      "execution_count": 11,
      "id": "p9RpUJtDl78k",
      "metadata": {
        "id": "p9RpUJtDl78k"
      },
      "outputs": [],
      "source": [
        "if not IS_COLAB:\n",
        "    # Put the local file in the nodes.\n",
        "    !/usr/local/hadoop-3.3.4/bin/hadoop fs -mkdir /input\n",
        "    !/usr/local/hadoop-3.3.4/bin/hadoop fs -mkdir /input/processed\n",
        "    !/usr/local/hadoop-3.3.4/bin/hadoop fs -put input/processed/train.csv /input/processed/train.csv\n",
        "    !/usr/local/hadoop-3.3.4/bin/hadoop fs -put input/processed/test.csv /input/processed/test.csv"
      ]
    },
    {
      "cell_type": "markdown",
      "id": "ALdpdw8KEy-6",
      "metadata": {
        "id": "ALdpdw8KEy-6"
      },
      "source": [
        "## Get the train and test data"
      ]
    },
    {
      "cell_type": "code",
      "execution_count": 12,
      "id": "tX-pISh2l78l",
      "metadata": {
        "id": "tX-pISh2l78l"
      },
      "outputs": [],
      "source": [
        "import os\n",
        "\n",
        "\n",
        "if IS_COLAB:\n",
        "    train_path = os.path.join('.', 'input', 'processed', 'train.csv')\n",
        "    test_path = os.path.join('.', 'input', 'processed', 'test.csv')\n",
        "else:\n",
        "    train_path = os.path.join('/', 'input', 'processed', 'train.csv')\n",
        "    test_path = os.path.join('/', 'input', 'processed', 'test.csv')"
      ]
    },
    {
      "cell_type": "code",
      "execution_count": 13,
      "id": "ZryFhI0w6CDE",
      "metadata": {
        "id": "ZryFhI0w6CDE"
      },
      "outputs": [],
      "source": [
        "train = spark.read.csv(\n",
        "    train_path,\n",
        "    header=True,\n",
        "    inferSchema=True)\n",
        "\n",
        "test = spark.read.csv(\n",
        "    test_path,\n",
        "    header=True,\n",
        "    inferSchema=True)"
      ]
    },
    {
      "cell_type": "code",
      "execution_count": 14,
      "id": "FuH_cfi7l78l",
      "metadata": {
        "colab": {
          "base_uri": "https://localhost:8080/"
        },
        "id": "FuH_cfi7l78l",
        "outputId": "6fbc543e-31f6-45f1-b758-0deb3cbac76a"
      },
      "outputs": [
        {
          "name": "stdout",
          "output_type": "stream",
          "text": [
            "root\n",
            " |-- Date: date (nullable = true)\n",
            " |-- Time: timestamp (nullable = true)\n",
            " |-- S1_Temp: double (nullable = true)\n",
            " |-- S2_Temp: double (nullable = true)\n",
            " |-- S3_Temp: double (nullable = true)\n",
            " |-- S4_Temp: double (nullable = true)\n",
            " |-- S1_Light: integer (nullable = true)\n",
            " |-- S2_Light: integer (nullable = true)\n",
            " |-- S3_Light: integer (nullable = true)\n",
            " |-- S4_Light: integer (nullable = true)\n",
            " |-- S1_Sound: double (nullable = true)\n",
            " |-- S2_Sound: double (nullable = true)\n",
            " |-- S3_Sound: double (nullable = true)\n",
            " |-- S4_Sound: double (nullable = true)\n",
            " |-- S5_CO2: integer (nullable = true)\n",
            " |-- S5_CO2_Slope: double (nullable = true)\n",
            " |-- S6_PIR: integer (nullable = true)\n",
            " |-- S7_PIR: integer (nullable = true)\n",
            " |-- Room_Occupancy_Count: integer (nullable = true)\n",
            "\n",
            "root\n",
            " |-- Date: date (nullable = true)\n",
            " |-- Time: timestamp (nullable = true)\n",
            " |-- S1_Temp: double (nullable = true)\n",
            " |-- S2_Temp: double (nullable = true)\n",
            " |-- S3_Temp: double (nullable = true)\n",
            " |-- S4_Temp: double (nullable = true)\n",
            " |-- S1_Light: integer (nullable = true)\n",
            " |-- S2_Light: integer (nullable = true)\n",
            " |-- S3_Light: integer (nullable = true)\n",
            " |-- S4_Light: integer (nullable = true)\n",
            " |-- S1_Sound: double (nullable = true)\n",
            " |-- S2_Sound: double (nullable = true)\n",
            " |-- S3_Sound: double (nullable = true)\n",
            " |-- S4_Sound: double (nullable = true)\n",
            " |-- S5_CO2: integer (nullable = true)\n",
            " |-- S5_CO2_Slope: double (nullable = true)\n",
            " |-- S6_PIR: integer (nullable = true)\n",
            " |-- S7_PIR: integer (nullable = true)\n",
            " |-- Room_Occupancy_Count: integer (nullable = true)\n",
            "\n"
          ]
        }
      ],
      "source": [
        "train.printSchema()\n",
        "test.printSchema()"
      ]
    },
    {
      "cell_type": "code",
      "execution_count": 15,
      "id": "n5uhpiyEdIz1",
      "metadata": {
        "colab": {
          "base_uri": "https://localhost:8080/"
        },
        "id": "n5uhpiyEdIz1",
        "outputId": "b26dc532-74a6-44a7-bacc-36b6b9d001fe"
      },
      "outputs": [
        {
          "name": "stdout",
          "output_type": "stream",
          "text": [
            "Number of train instances: 8036\n",
            "Number of test instances: 2093\n"
          ]
        }
      ],
      "source": [
        "print('Number of train instances:', train.count())\n",
        "print('Number of test instances:', test.count())"
      ]
    },
    {
      "cell_type": "markdown",
      "id": "BMh9xgq4Fc2D",
      "metadata": {
        "id": "BMh9xgq4Fc2D"
      },
      "source": [
        "## Dataset Processing\n",
        "In this section the dataset is processed, by adding a weight column to each instance inversely proportional to the frequency of their label, in order to address the issue of class imbalance.\n",
        "\n",
        "The applied weight $w$, to an instance $x$ of the train dataset $\\mathcal{D}$ with label $c$, is assigned by this formula:\n",
        "$$w(x) = \\frac{\\text{lenght}(\\mathcal{D})}{\\text{lenght}(\\mathcal{C}) \\cdot \\text{lenght}(\\mathcal{D}_{c})}$$\n",
        "where $\\mathcal{D}_{c}$ is the fraction of the train dataset containing label $c$ and $\\mathcal{C}$ is the set of possible labels.\n",
        "\n",
        "Furthermore a fold column is added, to identify for each instance in which fold of the *K-fold Cross Validation* it is part of.\n",
        "The folds are computed by dividing each day in $10$ different parts while guaranteeing that each fold contains a number of instances of each label that represents the distribution of the training set. Subsequent instances for each label are assigned to the same fold."
      ]
    },
    {
      "cell_type": "code",
      "execution_count": 16,
      "id": "ZIiDdi05xG_M",
      "metadata": {
        "id": "ZIiDdi05xG_M"
      },
      "outputs": [],
      "source": [
        "from pyspark.ml.feature import StandardScaler, RFormula\n",
        "\n",
        "\n",
        "rf = RFormula(formula='Room_Occupancy_Count ~ . - Date - Time')\n",
        "rf_fit = rf.fit(train)\n",
        "train = rf_fit.transform(train).select('features', 'label', 'Date', 'Time')\n",
        "test = rf_fit.transform(test).select('features', 'label', 'Date', 'Time')"
      ]
    },
    {
      "cell_type": "code",
      "execution_count": 17,
      "id": "_OOsfl2lQ0Vd",
      "metadata": {
        "colab": {
          "base_uri": "https://localhost:8080/"
        },
        "id": "_OOsfl2lQ0Vd",
        "outputId": "e3628482-de37-403e-8a86-161ee78467cb"
      },
      "outputs": [
        {
          "name": "stdout",
          "output_type": "stream",
          "text": [
            "+--------------------+-----+----------+-------------------+\n",
            "|            features|label|      Date|               Time|\n",
            "+--------------------+-----+----------+-------------------+\n",
            "|[24.94,24.75,24.5...|  1.0|2017-12-22|2023-11-22 10:49:41|\n",
            "|[24.94,24.75,24.5...|  1.0|2017-12-22|2023-11-22 10:50:12|\n",
            "|[25.0,24.75,24.5,...|  1.0|2017-12-22|2023-11-22 10:50:42|\n",
            "|[25.0,24.75,24.56...|  1.0|2017-12-22|2023-11-22 10:51:13|\n",
            "|[25.0,24.75,24.56...|  1.0|2017-12-22|2023-11-22 10:51:44|\n",
            "+--------------------+-----+----------+-------------------+\n",
            "only showing top 5 rows\n",
            "\n",
            "+--------------------+-----+----------+-------------------+\n",
            "|            features|label|      Date|               Time|\n",
            "+--------------------+-----+----------+-------------------+\n",
            "|[25.94,26.0,25.75...|  0.0|2017-12-22|2023-11-22 15:00:23|\n",
            "|[25.94,26.0,25.75...|  0.0|2017-12-22|2023-11-22 15:00:53|\n",
            "|[25.94,26.0,25.75...|  0.0|2017-12-22|2023-11-22 15:01:24|\n",
            "|[25.88,26.0,25.75...|  0.0|2017-12-22|2023-11-22 15:01:55|\n",
            "|[25.88,26.0,25.75...|  0.0|2017-12-22|2023-11-22 15:02:25|\n",
            "+--------------------+-----+----------+-------------------+\n",
            "only showing top 5 rows\n",
            "\n"
          ]
        }
      ],
      "source": [
        "train.show(n=5)\n",
        "test.show(n=5)"
      ]
    },
    {
      "cell_type": "code",
      "execution_count": 18,
      "id": "6oO08RxM0V_y",
      "metadata": {
        "id": "6oO08RxM0V_y"
      },
      "outputs": [],
      "source": [
        "from utils import get_df_with_weight_column\n",
        "\n",
        "\n",
        "# Add weight column inversely proportional to train frequency of the label.\n",
        "train = get_df_with_weight_column(train)"
      ]
    },
    {
      "cell_type": "code",
      "execution_count": 19,
      "id": "opgvXVJXGPW7",
      "metadata": {
        "colab": {
          "base_uri": "https://localhost:8080/"
        },
        "id": "opgvXVJXGPW7",
        "outputId": "f462caa5-4f9e-402e-c80c-4681483dccec"
      },
      "outputs": [
        {
          "name": "stdout",
          "output_type": "stream",
          "text": [
            "+-----+-------------------+\n",
            "|label|          weightCol|\n",
            "+-----+-------------------+\n",
            "|  0.0|0.30374962201390987|\n",
            "|  1.0|  6.069486404833837|\n",
            "|  2.0|   3.20414673046252|\n",
            "|  3.0|  4.329741379310345|\n",
            "+-----+-------------------+\n",
            "\n"
          ]
        }
      ],
      "source": [
        "train.select('label', 'weightCol').distinct().orderBy('label').show()"
      ]
    },
    {
      "cell_type": "code",
      "execution_count": 20,
      "id": "fXxPu4Uv3KJo",
      "metadata": {
        "id": "fXxPu4Uv3KJo"
      },
      "outputs": [],
      "source": [
        "from utils import get_df_with_fold_column\n",
        "\n",
        "\n",
        "# Add the column for stratified k-fold.\n",
        "train = get_df_with_fold_column(train, NUM_FOLDS)"
      ]
    },
    {
      "cell_type": "code",
      "execution_count": 21,
      "id": "fyz9lHHH3KJo",
      "metadata": {
        "id": "fyz9lHHH3KJo"
      },
      "outputs": [],
      "source": [
        "# Drop the Date and Time features.\n",
        "train = train.drop('Date', 'Time')\n",
        "test = test.drop('Date', 'Time')"
      ]
    },
    {
      "cell_type": "code",
      "execution_count": 22,
      "id": "DiFrOUjOcSsb",
      "metadata": {
        "colab": {
          "base_uri": "https://localhost:8080/"
        },
        "id": "DiFrOUjOcSsb",
        "outputId": "f7a34868-a1f9-4208-f915-9aa8e4101261"
      },
      "outputs": [
        {
          "name": "stdout",
          "output_type": "stream",
          "text": [
            "+-------+-----+-----+\n",
            "|foldCol|label|count|\n",
            "+-------+-----+-----+\n",
            "|      0|  0.0|  664|\n",
            "|      0|  1.0|   34|\n",
            "|      0|  2.0|   64|\n",
            "|      0|  3.0|   48|\n",
            "|      1|  0.0|  662|\n",
            "|      1|  1.0|   33|\n",
            "|      1|  2.0|   63|\n",
            "|      1|  3.0|   46|\n",
            "|      2|  0.0|  661|\n",
            "|      2|  1.0|   34|\n",
            "|      2|  2.0|   62|\n",
            "|      2|  3.0|   46|\n",
            "|      3|  0.0|  662|\n",
            "|      3|  1.0|   32|\n",
            "|      3|  2.0|   64|\n",
            "|      3|  3.0|   47|\n",
            "|      4|  0.0|  660|\n",
            "|      4|  1.0|   33|\n",
            "|      4|  2.0|   61|\n",
            "|      4|  3.0|   46|\n",
            "+-------+-----+-----+\n",
            "only showing top 20 rows\n",
            "\n"
          ]
        }
      ],
      "source": [
        "train.groupBy('foldCol', 'label').count().orderBy('foldCol', 'label').show()"
      ]
    },
    {
      "cell_type": "code",
      "execution_count": 23,
      "id": "crZywtD7sQ7c",
      "metadata": {
        "colab": {
          "base_uri": "https://localhost:8080/"
        },
        "id": "crZywtD7sQ7c",
        "outputId": "150c17d6-4a90-4998-c7df-eed078bdcc1a"
      },
      "outputs": [
        {
          "name": "stdout",
          "output_type": "stream",
          "text": [
            "+-----+--------------------+-----------------+-------+\n",
            "|label|            features|        weightCol|foldCol|\n",
            "+-----+--------------------+-----------------+-------+\n",
            "|  1.0|[24.94,24.75,24.5...|6.069486404833837|      0|\n",
            "|  1.0|[24.94,24.75,24.5...|6.069486404833837|      0|\n",
            "|  1.0|[25.0,24.75,24.5,...|6.069486404833837|      0|\n",
            "|  1.0|[25.0,24.75,24.56...|6.069486404833837|      0|\n",
            "|  1.0|[25.0,24.75,24.56...|6.069486404833837|      0|\n",
            "+-----+--------------------+-----------------+-------+\n",
            "only showing top 5 rows\n",
            "\n"
          ]
        }
      ],
      "source": [
        "train.show(n=5)"
      ]
    },
    {
      "cell_type": "markdown",
      "id": "AZ5XG4mHI30P",
      "metadata": {
        "id": "AZ5XG4mHI30P"
      },
      "source": [
        "## K-Fold Cross Validation Training\n",
        "In this section a pipeline is built for the Gradient Boosted Tree model. Since multiclassification is not natively supported for the given model, a *One Vs Rest* strategy is used to classify each instance. The seed is set as $42$. Furthermore, The subset strategy is fixed as `sqrt` as the model is generally not so sensible on it. The maximum number of iteration is set as $100$ to provide the model a good exploration. The maximum depth as $10$ in order to not make the model too specific.\n",
        "\n",
        "*10-Fold Cross Validation* is then applied for different parameters, namely:\n",
        "* `stepSize`\n",
        "* `validationTol`"
      ]
    },
    {
      "cell_type": "code",
      "execution_count": 24,
      "id": "4ZNacQMtXxZq",
      "metadata": {
        "id": "4ZNacQMtXxZq"
      },
      "outputs": [],
      "source": [
        "from pyspark.ml import Pipeline, PipelineModel\n",
        "from pyspark.ml.classification import GBTClassifier, OneVsRest\n",
        "\n",
        "\n",
        "def get_pipeline() -> PipelineModel:\n",
        "    gbt = OneVsRest(\n",
        "        classifier=GBTClassifier(\n",
        "            weightCol='weightCol',\n",
        "            featureSubsetStrategy='sqrt',\n",
        "            maxIter=100,\n",
        "            minInfoGain=.5,\n",
        "            maxDepth=10,\n",
        "            seed=SEED),\n",
        "        weightCol='weightCol',\n",
        "        parallelism=4)\n",
        "\n",
        "    return Pipeline(stages=[gbt])"
      ]
    },
    {
      "cell_type": "code",
      "execution_count": 25,
      "id": "NYRKL2OmXxZq",
      "metadata": {
        "id": "NYRKL2OmXxZq"
      },
      "outputs": [],
      "source": [
        "from pyspark.ml.evaluation import MulticlassClassificationEvaluator\n",
        "from pyspark.ml.tuning import CrossValidator, ParamGridBuilder\n",
        "\n",
        "\n",
        "# Cache the df.\n",
        "cached = train.cache()\n",
        "\n",
        "pipeline = get_pipeline()\n",
        "gbt = pipeline.getStages()[-1].getClassifier()\n",
        "\n",
        "# Build the Parameter Grid\n",
        "gbt_param_grid = ParamGridBuilder()\\\n",
        "    .addGrid(gbt.stepSize, [1e-1, 1e-3])\\\n",
        "    .addGrid(gbt.validationTol, [.1, .01, .001])\\\n",
        "    .build()\n",
        "\n",
        "# Set the Cross Validator.\n",
        "gbt_cross_val = CrossValidator(\n",
        "    estimator=pipeline,\n",
        "    estimatorParamMaps=gbt_param_grid,\n",
        "    evaluator=MulticlassClassificationEvaluator(\n",
        "        metricName='f1', weightCol='weightCol'),\n",
        "    numFolds=NUM_FOLDS,\n",
        "    parallelism=NUM_FOLDS,\n",
        "    collectSubModels=True,\n",
        "    seed=SEED,\n",
        "    foldCol='foldCol')"
      ]
    },
    {
      "cell_type": "code",
      "execution_count": 26,
      "id": "_FcfjMYzXxZq",
      "metadata": {
        "id": "_FcfjMYzXxZq"
      },
      "outputs": [],
      "source": [
        "fit = gbt_cross_val.fit(cached)"
      ]
    },
    {
      "cell_type": "code",
      "execution_count": 27,
      "id": "HJjIbxoyY4HR",
      "metadata": {
        "colab": {
          "base_uri": "https://localhost:8080/"
        },
        "id": "HJjIbxoyY4HR",
        "outputId": "5d57afd8-45d5-4588-ba93-6c037e741918"
      },
      "outputs": [
        {
          "name": "stdout",
          "output_type": "stream",
          "text": [
            "Best parameters:\n",
            "- stepSize: 0.1\n",
            "- validationTol: 0.1\n"
          ]
        }
      ],
      "source": [
        "print('Best parameters:')\n",
        "for k, v in fit.getEstimatorParamMaps()[np.argmax(fit.avgMetrics)].items():\n",
        "    print(f'- {k.name}: {v}')"
      ]
    },
    {
      "cell_type": "markdown",
      "id": "DCN7Aw7JJvYt",
      "metadata": {
        "id": "DCN7Aw7JJvYt"
      },
      "source": [
        "## Average Results on the Validation Folds\n",
        "In this section, the average results of *Cross Validation* of the model with the best found hyperparameters are computed and shown.\n",
        "\n",
        "Threshold selection is not applied, as probabilities are not outputed for *OneVsRest* models."
      ]
    },
    {
      "cell_type": "code",
      "execution_count": 28,
      "id": "d-2eU9EHUy2n",
      "metadata": {
        "colab": {
          "base_uri": "https://localhost:8080/"
        },
        "id": "d-2eU9EHUy2n",
        "outputId": "5e8456c0-f4e3-4d0a-b39f-ad4142ac5d61"
      },
      "outputs": [
        {
          "name": "stderr",
          "output_type": "stream",
          "text": [
            "/usr/local/lib/python3.10/dist-packages/pyspark/sql/context.py:158: FutureWarning: Deprecated in 3.0.0. Use SparkSession.builder.getOrCreate() instead.\n",
            "  warnings.warn(\n"
          ]
        }
      ],
      "source": [
        "from utils import get_average_validation_results\n",
        "\n",
        "\n",
        "avg_validation_results = get_average_validation_results(\n",
        "    fit,\n",
        "    train,\n",
        "    apply_threshold_selection=APPLY_THRESHOLD_SELECTION)"
      ]
    },
    {
      "cell_type": "code",
      "execution_count": 29,
      "id": "V6zgwnNDs0zH",
      "metadata": {
        "colab": {
          "base_uri": "https://localhost:8080/",
          "height": 611
        },
        "id": "V6zgwnNDs0zH",
        "outputId": "8cbdf44d-6d81-4de1-a7d0-a918cc6da45a"
      },
      "outputs": [
        {
          "name": "stdout",
          "output_type": "stream",
          "text": [
            "Average Cross Validation Metrics:\n",
            "Accuracy: 0.957\n",
            "F1 Macro: 0.915\n",
            "F1 scores:\n",
            "\tLabel 0: 0.976\n",
            "\tLabel 1: 0.883\n",
            "\tLabel 3: 0.891\n",
            "\tLabel 2: 0.912\n"
          ]
        },
        {
          "data": {
            "image/png": "[encoded data removed]",
            "text/plain": [
              "<Figure size 640x480 with 2 Axes>"
            ]
          },
          "metadata": {},
          "output_type": "display_data"
        }
      ],
      "source": [
        "from utils import print_results\n",
        "\n",
        "\n",
        "print('Average Cross Validation Metrics:')\n",
        "print_results(\n",
        "    avg_validation_results['average accuracy'],\n",
        "    avg_validation_results['average F1 macro'],\n",
        "    avg_validation_results['average F1 scores'],\n",
        "    avg_validation_results['average confusion matrix'])"
      ]
    },
    {
      "cell_type": "markdown",
      "id": "b0f_liJy-6PX",
      "metadata": {
        "id": "b0f_liJy-6PX"
      },
      "source": [
        "The model seems to predict good to average results for each class in the k-folded validation set. Label $1$ and $3$ seems to be the hardest to predict."
      ]
    },
    {
      "cell_type": "markdown",
      "id": "p-OayfqIZGqV",
      "metadata": {
        "id": "p-OayfqIZGqV"
      },
      "source": [
        "## Test Results\n",
        "In this section the results are plotted for the test set, with the model containing the best found hyperparameters."
      ]
    },
    {
      "cell_type": "code",
      "execution_count": 30,
      "id": "LAFAD0kT5Dps",
      "metadata": {
        "id": "LAFAD0kT5Dps"
      },
      "outputs": [],
      "source": [
        "fit_final = fit.bestModel"
      ]
    },
    {
      "cell_type": "code",
      "execution_count": 31,
      "id": "Xf-4cYBjZBqS",
      "metadata": {
        "id": "Xf-4cYBjZBqS"
      },
      "outputs": [],
      "source": [
        "preds = fit_final.transform(test)"
      ]
    },
    {
      "cell_type": "code",
      "execution_count": 32,
      "id": "CMnPLYIkah26",
      "metadata": {
        "id": "CMnPLYIkah26"
      },
      "outputs": [],
      "source": [
        "from utils import get_metrics\n",
        "\n",
        "\n",
        "fit_final_metrics = get_metrics(\n",
        "    preds,\n",
        "    normalize_confusion_matrix=True)"
      ]
    },
    {
      "cell_type": "code",
      "execution_count": 33,
      "id": "hdQ4JDde6DYj",
      "metadata": {
        "colab": {
          "base_uri": "https://localhost:8080/",
          "height": 611
        },
        "id": "hdQ4JDde6DYj",
        "outputId": "c87a274f-7fc1-48af-83b7-fe736cfcd81c"
      },
      "outputs": [
        {
          "name": "stdout",
          "output_type": "stream",
          "text": [
            "Test results:\n",
            "Accuracy: 0.866\n",
            "F1 Macro: 0.553\n",
            "F1 scores:\n",
            "\tLabel 0: 0.999\n",
            "\tLabel 1: 0.831\n",
            "\tLabel 2: 0.372\n",
            "\tLabel 3: 0.009\n"
          ]
        },
        {
          "data": {
            "image/png": "[encoded data removed]",
            "text/plain": [
              "<Figure size 640x480 with 2 Axes>"
            ]
          },
          "metadata": {},
          "output_type": "display_data"
        }
      ],
      "source": [
        "from utils import print_results\n",
        "\n",
        "\n",
        "print('Test results:')\n",
        "print_results(\n",
        "    fit_final_metrics['accuracy'],\n",
        "    fit_final_metrics['F1 macro'],\n",
        "    fit_final_metrics['F1 scores'],\n",
        "    fit_final_metrics['confusion matrix'])"
      ]
    },
    {
      "cell_type": "markdown",
      "id": "kLwPfGb--6PY",
      "metadata": {
        "id": "kLwPfGb--6PY"
      },
      "source": [
        "The test result are awful, as just the first class seems to be predicted correctly, while the *F1 scores* for labels $2$ and $3$ are extremely low."
      ]
    },
    {
      "cell_type": "markdown",
      "id": "FDsYofWNBwSw",
      "metadata": {
        "id": "FDsYofWNBwSw"
      },
      "source": [
        "## Save the results"
      ]
    },
    {
      "cell_type": "code",
      "execution_count": 34,
      "id": "soOWlyHCB5RV",
      "metadata": {
        "id": "soOWlyHCB5RV"
      },
      "outputs": [],
      "source": [
        "import os\n",
        "\n",
        "models_directory = os.path.join('.', 'model', 'gbt')\n",
        "os.makedirs(models_directory, exist_ok=True)\n",
        "\n",
        "results_directory = os.path.join('.', 'results', 'gbt')\n",
        "os.makedirs(results_directory, exist_ok=True)"
      ]
    },
    {
      "cell_type": "code",
      "execution_count": 35,
      "id": "6g0UHMH8ByVf",
      "metadata": {
        "id": "6g0UHMH8ByVf"
      },
      "outputs": [],
      "source": [
        "import os\n",
        "import pickle\n",
        "\n",
        "# Save model and threshold model.\n",
        "fit_final.save(os.path.join(models_directory, 'fit.model'))\n",
        "\n",
        "with open(os.path.join(results_directory, 'val.pickle'), 'wb') as f:\n",
        "    pickle.dump(avg_validation_results, f)\n",
        "\n",
        "with open(os.path.join(results_directory, 'test.pickle'), 'wb') as f:\n",
        "    pickle.dump(fit_final_metrics, f)\n"
      ]
    }
  ],
  "metadata": {
    "colab": {
      "machine_shape": "hm",
      "provenance": []
    },
    "kernelspec": {
      "display_name": "Python 3",
      "name": "python3"
    },
    "language_info": {
      "codemirror_mode": {
        "name": "ipython",
        "version": 3
      },
      "file_extension": ".py",
      "mimetype": "text/x-python",
      "name": "python",
      "nbconvert_exporter": "python",
      "pygments_lexer": "ipython3",
      "version": "3.10.0"
    }
  },
  "nbformat": 4,
  "nbformat_minor": 5
}
